{
  "cells": [
    {
      "cell_type": "markdown",
      "metadata": {
        "id": "view-in-github",
        "colab_type": "text"
      },
      "source": [
        "<a href=\"https://colab.research.google.com/github/ManethWijetunga/Covid19App/blob/main/Assignment1.ipynb\" target=\"_parent\"><img src=\"https://colab.research.google.com/assets/colab-badge.svg\" alt=\"Open In Colab\"/></a>"
      ]
    },
    {
      "cell_type": "markdown",
      "metadata": {
        "id": "Kscf0pMloJae"
      },
      "source": [
        "# **Assignment 1 - SCS 3201**\n",
        "Index No: 19001942"
      ]
    },
    {
      "cell_type": "markdown",
      "metadata": {
        "id": "dVWiJqLh7EUl"
      },
      "source": [
        "# **1) Multivariate Linear Regression**"
      ]
    },
    {
      "cell_type": "markdown",
      "metadata": {
        "id": "Y_xrEQEdm-O4"
      },
      "source": [
        "**Selection and a brief introduction to the data sets**\n",
        "\n",
        "---\n",
        "The below data set was obtained from UCI ML Repository. The data set is at 10 min for about 4.5 months. The house temperature and humidity conditions were monitored with a ZigBee wireless sensor network. Each wireless node transmitted the ***temperature and humidity conditions*** around 3.3 min. Then, the wireless data was averaged for 10 minutes periods. The energy data was logged every 10 minutes with m-bus energy meters. Weather from the nearest airport weather station (Chievres Airport, Belgium) was downloaded from a public data set from Reliable Prognosis (rp5.ru), and merged together with the experimental data sets using the date and time column. \n",
        "\n",
        "---\n",
        "\n"
      ]
    },
    {
      "cell_type": "markdown",
      "metadata": {
        "id": "j287XlVZnJbG"
      },
      "source": [
        "**The objective of regression task**\n",
        "\n",
        "Experimental data are being used to create regression models of appliances energy use in a low energy building. To be specific, the energy use in Wh lights with changes in temperature, windspeed, humidity, visibility, etc."
      ]
    },
    {
      "cell_type": "markdown",
      "metadata": {
        "id": "BIYKVq1PnOht"
      },
      "source": [
        "**Data Preprocessing**"
      ]
    },
    {
      "cell_type": "code",
      "execution_count": null,
      "metadata": {
        "id": "oawV6KHdpbB2"
      },
      "outputs": [],
      "source": [
        "%matplotlib inline\n",
        "import pandas as pd\n",
        "import numpy as np\n",
        "import matplotlib.pyplot as plt"
      ]
    },
    {
      "cell_type": "code",
      "execution_count": null,
      "metadata": {
        "colab": {
          "base_uri": "https://localhost:8080/",
          "height": 204
        },
        "id": "iP-CDcfHpz9V",
        "outputId": "224b391d-94a7-45c8-e2c2-6a0307a4cf13"
      },
      "outputs": [
        {
          "output_type": "execute_result",
          "data": {
            "text/plain": [
              "   00     2        21     22    23        24         25   26         27  \\\n",
              "1   1  30.0  6.600000  733.5  92.0  7.000000  63.000000  5.3  13.275433   \n",
              "2   1  30.0  6.483333  733.6  92.0  6.666667  59.166667  5.2  18.606195   \n",
              "3   1  30.0  6.366667  733.7  92.0  6.333333  55.333333  5.1  28.642668   \n",
              "4   1  40.0  6.250000  733.8  92.0  6.000000  51.500000  5.0  45.410389   \n",
              "5   1  40.0  6.133333  733.9  92.0  5.666667  47.666667  4.9  10.084097   \n",
              "\n",
              "          28  \n",
              "1  13.275433  \n",
              "2  18.606195  \n",
              "3  28.642668  \n",
              "4  45.410389  \n",
              "5  10.084097  "
            ],
            "text/html": [
              "\n",
              "  <div id=\"df-6e31df64-ca74-4bf6-9a4f-4fdc77547202\">\n",
              "    <div class=\"colab-df-container\">\n",
              "      <div>\n",
              "<style scoped>\n",
              "    .dataframe tbody tr th:only-of-type {\n",
              "        vertical-align: middle;\n",
              "    }\n",
              "\n",
              "    .dataframe tbody tr th {\n",
              "        vertical-align: top;\n",
              "    }\n",
              "\n",
              "    .dataframe thead th {\n",
              "        text-align: right;\n",
              "    }\n",
              "</style>\n",
              "<table border=\"1\" class=\"dataframe\">\n",
              "  <thead>\n",
              "    <tr style=\"text-align: right;\">\n",
              "      <th></th>\n",
              "      <th>00</th>\n",
              "      <th>2</th>\n",
              "      <th>21</th>\n",
              "      <th>22</th>\n",
              "      <th>23</th>\n",
              "      <th>24</th>\n",
              "      <th>25</th>\n",
              "      <th>26</th>\n",
              "      <th>27</th>\n",
              "      <th>28</th>\n",
              "    </tr>\n",
              "  </thead>\n",
              "  <tbody>\n",
              "    <tr>\n",
              "      <th>1</th>\n",
              "      <td>1</td>\n",
              "      <td>30.0</td>\n",
              "      <td>6.600000</td>\n",
              "      <td>733.5</td>\n",
              "      <td>92.0</td>\n",
              "      <td>7.000000</td>\n",
              "      <td>63.000000</td>\n",
              "      <td>5.3</td>\n",
              "      <td>13.275433</td>\n",
              "      <td>13.275433</td>\n",
              "    </tr>\n",
              "    <tr>\n",
              "      <th>2</th>\n",
              "      <td>1</td>\n",
              "      <td>30.0</td>\n",
              "      <td>6.483333</td>\n",
              "      <td>733.6</td>\n",
              "      <td>92.0</td>\n",
              "      <td>6.666667</td>\n",
              "      <td>59.166667</td>\n",
              "      <td>5.2</td>\n",
              "      <td>18.606195</td>\n",
              "      <td>18.606195</td>\n",
              "    </tr>\n",
              "    <tr>\n",
              "      <th>3</th>\n",
              "      <td>1</td>\n",
              "      <td>30.0</td>\n",
              "      <td>6.366667</td>\n",
              "      <td>733.7</td>\n",
              "      <td>92.0</td>\n",
              "      <td>6.333333</td>\n",
              "      <td>55.333333</td>\n",
              "      <td>5.1</td>\n",
              "      <td>28.642668</td>\n",
              "      <td>28.642668</td>\n",
              "    </tr>\n",
              "    <tr>\n",
              "      <th>4</th>\n",
              "      <td>1</td>\n",
              "      <td>40.0</td>\n",
              "      <td>6.250000</td>\n",
              "      <td>733.8</td>\n",
              "      <td>92.0</td>\n",
              "      <td>6.000000</td>\n",
              "      <td>51.500000</td>\n",
              "      <td>5.0</td>\n",
              "      <td>45.410389</td>\n",
              "      <td>45.410389</td>\n",
              "    </tr>\n",
              "    <tr>\n",
              "      <th>5</th>\n",
              "      <td>1</td>\n",
              "      <td>40.0</td>\n",
              "      <td>6.133333</td>\n",
              "      <td>733.9</td>\n",
              "      <td>92.0</td>\n",
              "      <td>5.666667</td>\n",
              "      <td>47.666667</td>\n",
              "      <td>4.9</td>\n",
              "      <td>10.084097</td>\n",
              "      <td>10.084097</td>\n",
              "    </tr>\n",
              "  </tbody>\n",
              "</table>\n",
              "</div>\n",
              "      <button class=\"colab-df-convert\" onclick=\"convertToInteractive('df-6e31df64-ca74-4bf6-9a4f-4fdc77547202')\"\n",
              "              title=\"Convert this dataframe to an interactive table.\"\n",
              "              style=\"display:none;\">\n",
              "        \n",
              "  <svg xmlns=\"http://www.w3.org/2000/svg\" height=\"24px\"viewBox=\"0 0 24 24\"\n",
              "       width=\"24px\">\n",
              "    <path d=\"M0 0h24v24H0V0z\" fill=\"none\"/>\n",
              "    <path d=\"M18.56 5.44l.94 2.06.94-2.06 2.06-.94-2.06-.94-.94-2.06-.94 2.06-2.06.94zm-11 1L8.5 8.5l.94-2.06 2.06-.94-2.06-.94L8.5 2.5l-.94 2.06-2.06.94zm10 10l.94 2.06.94-2.06 2.06-.94-2.06-.94-.94-2.06-.94 2.06-2.06.94z\"/><path d=\"M17.41 7.96l-1.37-1.37c-.4-.4-.92-.59-1.43-.59-.52 0-1.04.2-1.43.59L10.3 9.45l-7.72 7.72c-.78.78-.78 2.05 0 2.83L4 21.41c.39.39.9.59 1.41.59.51 0 1.02-.2 1.41-.59l7.78-7.78 2.81-2.81c.8-.78.8-2.07 0-2.86zM5.41 20L4 18.59l7.72-7.72 1.47 1.35L5.41 20z\"/>\n",
              "  </svg>\n",
              "      </button>\n",
              "      \n",
              "  <style>\n",
              "    .colab-df-container {\n",
              "      display:flex;\n",
              "      flex-wrap:wrap;\n",
              "      gap: 12px;\n",
              "    }\n",
              "\n",
              "    .colab-df-convert {\n",
              "      background-color: #E8F0FE;\n",
              "      border: none;\n",
              "      border-radius: 50%;\n",
              "      cursor: pointer;\n",
              "      display: none;\n",
              "      fill: #1967D2;\n",
              "      height: 32px;\n",
              "      padding: 0 0 0 0;\n",
              "      width: 32px;\n",
              "    }\n",
              "\n",
              "    .colab-df-convert:hover {\n",
              "      background-color: #E2EBFA;\n",
              "      box-shadow: 0px 1px 2px rgba(60, 64, 67, 0.3), 0px 1px 3px 1px rgba(60, 64, 67, 0.15);\n",
              "      fill: #174EA6;\n",
              "    }\n",
              "\n",
              "    [theme=dark] .colab-df-convert {\n",
              "      background-color: #3B4455;\n",
              "      fill: #D2E3FC;\n",
              "    }\n",
              "\n",
              "    [theme=dark] .colab-df-convert:hover {\n",
              "      background-color: #434B5C;\n",
              "      box-shadow: 0px 1px 3px 1px rgba(0, 0, 0, 0.15);\n",
              "      filter: drop-shadow(0px 1px 2px rgba(0, 0, 0, 0.3));\n",
              "      fill: #FFFFFF;\n",
              "    }\n",
              "  </style>\n",
              "\n",
              "      <script>\n",
              "        const buttonEl =\n",
              "          document.querySelector('#df-6e31df64-ca74-4bf6-9a4f-4fdc77547202 button.colab-df-convert');\n",
              "        buttonEl.style.display =\n",
              "          google.colab.kernel.accessAllowed ? 'block' : 'none';\n",
              "\n",
              "        async function convertToInteractive(key) {\n",
              "          const element = document.querySelector('#df-6e31df64-ca74-4bf6-9a4f-4fdc77547202');\n",
              "          const dataTable =\n",
              "            await google.colab.kernel.invokeFunction('convertToInteractive',\n",
              "                                                     [key], {});\n",
              "          if (!dataTable) return;\n",
              "\n",
              "          const docLinkHtml = 'Like what you see? Visit the ' +\n",
              "            '<a target=\"_blank\" href=https://colab.research.google.com/notebooks/data_table.ipynb>data table notebook</a>'\n",
              "            + ' to learn more about interactive tables.';\n",
              "          element.innerHTML = '';\n",
              "          dataTable['output_type'] = 'display_data';\n",
              "          await google.colab.output.renderOutput(dataTable, element);\n",
              "          const docLink = document.createElement('div');\n",
              "          docLink.innerHTML = docLinkHtml;\n",
              "          element.appendChild(docLink);\n",
              "        }\n",
              "      </script>\n",
              "    </div>\n",
              "  </div>\n",
              "  "
            ]
          },
          "metadata": {},
          "execution_count": 69
        }
      ],
      "source": [
        "#importing the dataset from UCI\n",
        "theDataset = 'https://archive.ics.uci.edu/ml/machine-learning-databases/00374/energydata_complete.csv'\n",
        "\n",
        "df = pd.read_csv(theDataset,header=None)\n",
        "\n",
        "#filtering unwanted columns\n",
        "df.drop(columns=[0,1,3,4,5,6,7,8,9,10,11,12,13,14,15,16,17,18,19,20], inplace=True, axis=1)\n",
        "\n",
        "#Removing the header row\n",
        "df = df.iloc[1:] \n",
        "df = df.astype(float) #Converting all values in the dataset to float\n",
        "\n",
        "#Adding the bias column to the dataset\n",
        "df = pd.concat([pd.Series(1, index=df.index, name=\"00\"), df], axis=1)\n",
        "#Printing the dataframe after pre-processing\n",
        "df.head()"
      ]
    },
    {
      "cell_type": "code",
      "execution_count": null,
      "metadata": {
        "colab": {
          "base_uri": "https://localhost:8080/"
        },
        "id": "k9-9gMYtp0Hh",
        "outputId": "de0fd219-af9a-4c2c-aa90-8b48da4111a9"
      },
      "outputs": [
        {
          "output_type": "execute_result",
          "data": {
            "text/plain": [
              "1        13.275433\n",
              "2        18.606195\n",
              "3        28.642668\n",
              "4        45.410389\n",
              "5        10.084097\n",
              "           ...    \n",
              "19731    43.096812\n",
              "19732    49.282940\n",
              "19733    29.199117\n",
              "19734     6.322784\n",
              "19735    34.118851\n",
              "Name: 28, Length: 19735, dtype: float64"
            ]
          },
          "metadata": {},
          "execution_count": 70
        }
      ],
      "source": [
        "#Independent variable -> X \n",
        "X = df.drop(columns=2)\n",
        "\n",
        "#Dependent variable -> y\n",
        "y = df.iloc[:, 9]\n",
        "y"
      ]
    },
    {
      "cell_type": "markdown",
      "metadata": {
        "id": "N9fqKBku3-3L"
      },
      "source": [
        "**Data Normalizing** <br>\n",
        "\n",
        "Dataset has been normalised by dividing each value in a given column by the maximum value of that selected column."
      ]
    },
    {
      "cell_type": "code",
      "execution_count": null,
      "metadata": {
        "id": "SsqjHtGNp0TY"
      },
      "outputs": [],
      "source": [
        "#Normalizing of features\n",
        "for i in X.columns:\n",
        "  maxValue = max(X[i])\n",
        "  X[i] /= maxValue"
      ]
    },
    {
      "cell_type": "markdown",
      "metadata": {
        "id": "i9tkPyd44Kru"
      },
      "source": [
        "**Splitting the dataset** <br>\n",
        "Dataset is splitted into two portions. One portion would include the test data set and the other would include the training data set. *Sklearn library is been used for this purpose.*"
      ]
    },
    {
      "cell_type": "code",
      "execution_count": null,
      "metadata": {
        "id": "hvvdJ_wxp0XT"
      },
      "outputs": [],
      "source": [
        "#splitting data into two sets as traindata and testdata \n",
        "from sklearn.model_selection import train_test_split\n",
        "\n",
        "#40% of the whole dataset is taken as the test data and the other 60% as the train data randomly\n",
        "X_traindata, X_testdata, y_traindata, y_testdata = train_test_split(X, y, test_size = 0.4, random_state = 69) "
      ]
    },
    {
      "cell_type": "code",
      "execution_count": null,
      "metadata": {
        "id": "UwtjROYc5DwJ"
      },
      "outputs": [],
      "source": [
        "#Initialized theta variables to random values\n",
        "theta = np.random.randint(100, size=(len(X.columns)))"
      ]
    },
    {
      "cell_type": "markdown",
      "metadata": {
        "id": "hqf_0TrO5IJQ"
      },
      "source": [
        "**Cost function** "
      ]
    },
    {
      "cell_type": "code",
      "execution_count": null,
      "metadata": {
        "id": "DP-VZZJ55N72"
      },
      "outputs": [],
      "source": [
        "def costFunction(X, y, theta, N):\n",
        "\n",
        "    #hypothesis\n",
        "    hx = theta*X  \n",
        "    hx = np.sum(hx, axis=1)\n",
        "\n",
        "    finalCost = np.sum((hx-y)**2)/(2*N)\n",
        "\n",
        "    return finalCost"
      ]
    },
    {
      "cell_type": "markdown",
      "metadata": {
        "id": "CU5pxgfe5WgL"
      },
      "source": [
        "**Gradient Descent Algorithm**"
      ]
    },
    {
      "cell_type": "code",
      "execution_count": null,
      "metadata": {
        "id": "ZZLTaBmt5Yot"
      },
      "outputs": [],
      "source": [
        "def gradientDescent(X, y, theta, learningRate, iterationsAmount,N):\n",
        "\n",
        "    #An array to record the cost at each itertion of the algorithm\n",
        "    stepwiseCosts = [] \n",
        "    while (iterationsAmount>0): \n",
        "\n",
        "        #hypothesis   \n",
        "        hx = theta*X  \n",
        "        hx = np.sum(hx, axis=1) \n",
        "        \n",
        "        #Updating all the theta values\n",
        "        for j in range(0, len(X.columns)):\n",
        "            theta[j] = theta[j] - (learningRate/N)*(sum((hx-y)*X.iloc[:,j]))\n",
        "\n",
        "        #recording cost at each itertion to the above array\n",
        "        stepwiseCosts.append(costFunction(X, y, theta,N)) \n",
        "        iterationsAmount-=1\n",
        "\n",
        "    return stepwiseCosts, theta"
      ]
    },
    {
      "cell_type": "markdown",
      "metadata": {
        "id": "m4JSHUi25v6O"
      },
      "source": [
        "**Model fitting and plotting the convergence**"
      ]
    },
    {
      "cell_type": "code",
      "execution_count": null,
      "metadata": {
        "colab": {
          "base_uri": "https://localhost:8080/",
          "height": 295
        },
        "id": "6Wd5vgqA54UF",
        "outputId": "085097d5-b0a6-4564-a803-c37617977320"
      },
      "outputs": [
        {
          "output_type": "display_data",
          "data": {
            "text/plain": [
              "<Figure size 432x288 with 1 Axes>"
            ],
            "image/png": "[encoded data removed]"
          },
          "metadata": {
            "needs_background": "light"
          }
        }
      ],
      "source": [
        "#Model configurations\n",
        "learningRate = 0.05\n",
        "iterationsAmount = 100\n",
        "#Number of datapoints\n",
        "N = float(len(df)) \n",
        "\n",
        "#Training the multivariate linear regression model\n",
        "stepwiseCosts, theta = gradientDescent(X_traindata, y_traindata, theta, learningRate, iterationsAmount,N)\n",
        "\n",
        "#Plotting convergence\n",
        "plt.figure()\n",
        "plt.xlabel('Number of iterations')\n",
        "plt.ylabel('Cost')\n",
        "plt.title('Convergence')\n",
        "plt.scatter(x=list(range(0, iterationsAmount)), y=stepwiseCosts)\n",
        "plt.show()"
      ]
    },
    {
      "cell_type": "markdown",
      "metadata": {
        "id": "JiRHoybh6Hyk"
      },
      "source": [
        "**Evaluation - Testing Model Accuracy**"
      ]
    },
    {
      "cell_type": "code",
      "execution_count": null,
      "metadata": {
        "colab": {
          "base_uri": "https://localhost:8080/"
        },
        "id": "ylkHPEir6Lxa",
        "outputId": "2034ea6b-e2a4-4913-dad8-4b6b9213efc7"
      },
      "outputs": [
        {
          "output_type": "stream",
          "name": "stdout",
          "text": [
            "The r2 score is:  0.93472941308061\n"
          ]
        }
      ],
      "source": [
        "#Testing the accuracy of model\n",
        "\n",
        "#hypothesis \n",
        "predicted_Y_values = theta*X_testdata \n",
        "predicted_Y_values = np.sum(predicted_Y_values, axis=1) \n",
        "\n",
        "from sklearn.metrics import r2_score\n",
        "print('The r2 score is: ',r2_score(y_testdata,predicted_Y_values))"
      ]
    },
    {
      "cell_type": "markdown",
      "metadata": {
        "id": "0Q45cJkE7OR-"
      },
      "source": [
        "# **2) Logistic Regression**"
      ]
    },
    {
      "cell_type": "markdown",
      "metadata": {
        "id": "KSZ1lrgImalv"
      },
      "source": [
        "**Selection and a brief introduction to the data sets**\n",
        "\n",
        "---\n",
        "The below data set was obtained from UCI ML Repository. Data were extracted from images that were taken from genuine and forged banknote-like specimens. For digitization, an industrial camera usually used for print inspection was used. The final images have 400x 400 pixels. Due to the object lens and distance to the investigated object gray-scale pictures with a resolution of about 660 dpi were gained. Wavelet Transform tool were used to extract features from images.\n",
        "\n",
        "\n",
        "***Attribute Information:***\n",
        "\n",
        "1. variance of Wavelet Transformed image (continuous) \n",
        "2. skewness of Wavelet Transformed image (continuous) \n",
        "3. curtosis of Wavelet Transformed image (continuous) \n",
        "4. entropy of image (continuous) \n",
        "5. class (integer) \n",
        "\n",
        "---\n",
        "\n"
      ]
    },
    {
      "cell_type": "markdown",
      "metadata": {
        "id": "qjUXm5opmkBT"
      },
      "source": [
        "**The objective of classification task**"
      ]
    },
    {
      "cell_type": "markdown",
      "source": [
        "Categorising bank notes as forged notes and real notes by considering features such as variance, skewness, curtosis and entropy of Wavelet image."
      ],
      "metadata": {
        "id": "zAws1ahpF7Lc"
      }
    },
    {
      "cell_type": "markdown",
      "metadata": {
        "id": "XuRBdl6Amo_a"
      },
      "source": [
        "**Data Preprocessing**"
      ]
    },
    {
      "cell_type": "code",
      "source": [
        "%matplotlib inline\n",
        "import pandas as pd\n",
        "import numpy as np\n",
        "import matplotlib.pyplot as plt"
      ],
      "metadata": {
        "id": "t89xT_ztCcYs"
      },
      "execution_count": 87,
      "outputs": []
    },
    {
      "cell_type": "code",
      "execution_count": 103,
      "metadata": {
        "colab": {
          "base_uri": "https://localhost:8080/",
          "height": 204
        },
        "id": "nImmBH748K1f",
        "outputId": "b567c7c9-541d-4044-8f7d-4fec575933e2"
      },
      "outputs": [
        {
          "output_type": "execute_result",
          "data": {
            "text/plain": [
              "            0         1        2        3  4\n",
              "1367  0.40614   1.34920  -1.4501 -0.55949  1\n",
              "1368 -1.38870  -4.87730   6.4774  0.34179  1\n",
              "1369 -3.75030 -13.45860  17.5932 -2.77710  1\n",
              "1370 -3.56370  -8.38270  12.3930 -1.28230  1\n",
              "1371 -2.54190  -0.65804   2.6842  1.19520  1"
            ],
            "text/html": [
              "\n",
              "  <div id=\"df-775b9d5c-8f85-44ed-b31b-9014df53c12e\">\n",
              "    <div class=\"colab-df-container\">\n",
              "      <div>\n",
              "<style scoped>\n",
              "    .dataframe tbody tr th:only-of-type {\n",
              "        vertical-align: middle;\n",
              "    }\n",
              "\n",
              "    .dataframe tbody tr th {\n",
              "        vertical-align: top;\n",
              "    }\n",
              "\n",
              "    .dataframe thead th {\n",
              "        text-align: right;\n",
              "    }\n",
              "</style>\n",
              "<table border=\"1\" class=\"dataframe\">\n",
              "  <thead>\n",
              "    <tr style=\"text-align: right;\">\n",
              "      <th></th>\n",
              "      <th>0</th>\n",
              "      <th>1</th>\n",
              "      <th>2</th>\n",
              "      <th>3</th>\n",
              "      <th>4</th>\n",
              "    </tr>\n",
              "  </thead>\n",
              "  <tbody>\n",
              "    <tr>\n",
              "      <th>1367</th>\n",
              "      <td>0.40614</td>\n",
              "      <td>1.34920</td>\n",
              "      <td>-1.4501</td>\n",
              "      <td>-0.55949</td>\n",
              "      <td>1</td>\n",
              "    </tr>\n",
              "    <tr>\n",
              "      <th>1368</th>\n",
              "      <td>-1.38870</td>\n",
              "      <td>-4.87730</td>\n",
              "      <td>6.4774</td>\n",
              "      <td>0.34179</td>\n",
              "      <td>1</td>\n",
              "    </tr>\n",
              "    <tr>\n",
              "      <th>1369</th>\n",
              "      <td>-3.75030</td>\n",
              "      <td>-13.45860</td>\n",
              "      <td>17.5932</td>\n",
              "      <td>-2.77710</td>\n",
              "      <td>1</td>\n",
              "    </tr>\n",
              "    <tr>\n",
              "      <th>1370</th>\n",
              "      <td>-3.56370</td>\n",
              "      <td>-8.38270</td>\n",
              "      <td>12.3930</td>\n",
              "      <td>-1.28230</td>\n",
              "      <td>1</td>\n",
              "    </tr>\n",
              "    <tr>\n",
              "      <th>1371</th>\n",
              "      <td>-2.54190</td>\n",
              "      <td>-0.65804</td>\n",
              "      <td>2.6842</td>\n",
              "      <td>1.19520</td>\n",
              "      <td>1</td>\n",
              "    </tr>\n",
              "  </tbody>\n",
              "</table>\n",
              "</div>\n",
              "      <button class=\"colab-df-convert\" onclick=\"convertToInteractive('df-775b9d5c-8f85-44ed-b31b-9014df53c12e')\"\n",
              "              title=\"Convert this dataframe to an interactive table.\"\n",
              "              style=\"display:none;\">\n",
              "        \n",
              "  <svg xmlns=\"http://www.w3.org/2000/svg\" height=\"24px\"viewBox=\"0 0 24 24\"\n",
              "       width=\"24px\">\n",
              "    <path d=\"M0 0h24v24H0V0z\" fill=\"none\"/>\n",
              "    <path d=\"M18.56 5.44l.94 2.06.94-2.06 2.06-.94-2.06-.94-.94-2.06-.94 2.06-2.06.94zm-11 1L8.5 8.5l.94-2.06 2.06-.94-2.06-.94L8.5 2.5l-.94 2.06-2.06.94zm10 10l.94 2.06.94-2.06 2.06-.94-2.06-.94-.94-2.06-.94 2.06-2.06.94z\"/><path d=\"M17.41 7.96l-1.37-1.37c-.4-.4-.92-.59-1.43-.59-.52 0-1.04.2-1.43.59L10.3 9.45l-7.72 7.72c-.78.78-.78 2.05 0 2.83L4 21.41c.39.39.9.59 1.41.59.51 0 1.02-.2 1.41-.59l7.78-7.78 2.81-2.81c.8-.78.8-2.07 0-2.86zM5.41 20L4 18.59l7.72-7.72 1.47 1.35L5.41 20z\"/>\n",
              "  </svg>\n",
              "      </button>\n",
              "      \n",
              "  <style>\n",
              "    .colab-df-container {\n",
              "      display:flex;\n",
              "      flex-wrap:wrap;\n",
              "      gap: 12px;\n",
              "    }\n",
              "\n",
              "    .colab-df-convert {\n",
              "      background-color: #E8F0FE;\n",
              "      border: none;\n",
              "      border-radius: 50%;\n",
              "      cursor: pointer;\n",
              "      display: none;\n",
              "      fill: #1967D2;\n",
              "      height: 32px;\n",
              "      padding: 0 0 0 0;\n",
              "      width: 32px;\n",
              "    }\n",
              "\n",
              "    .colab-df-convert:hover {\n",
              "      background-color: #E2EBFA;\n",
              "      box-shadow: 0px 1px 2px rgba(60, 64, 67, 0.3), 0px 1px 3px 1px rgba(60, 64, 67, 0.15);\n",
              "      fill: #174EA6;\n",
              "    }\n",
              "\n",
              "    [theme=dark] .colab-df-convert {\n",
              "      background-color: #3B4455;\n",
              "      fill: #D2E3FC;\n",
              "    }\n",
              "\n",
              "    [theme=dark] .colab-df-convert:hover {\n",
              "      background-color: #434B5C;\n",
              "      box-shadow: 0px 1px 3px 1px rgba(0, 0, 0, 0.15);\n",
              "      filter: drop-shadow(0px 1px 2px rgba(0, 0, 0, 0.3));\n",
              "      fill: #FFFFFF;\n",
              "    }\n",
              "  </style>\n",
              "\n",
              "      <script>\n",
              "        const buttonEl =\n",
              "          document.querySelector('#df-775b9d5c-8f85-44ed-b31b-9014df53c12e button.colab-df-convert');\n",
              "        buttonEl.style.display =\n",
              "          google.colab.kernel.accessAllowed ? 'block' : 'none';\n",
              "\n",
              "        async function convertToInteractive(key) {\n",
              "          const element = document.querySelector('#df-775b9d5c-8f85-44ed-b31b-9014df53c12e');\n",
              "          const dataTable =\n",
              "            await google.colab.kernel.invokeFunction('convertToInteractive',\n",
              "                                                     [key], {});\n",
              "          if (!dataTable) return;\n",
              "\n",
              "          const docLinkHtml = 'Like what you see? Visit the ' +\n",
              "            '<a target=\"_blank\" href=https://colab.research.google.com/notebooks/data_table.ipynb>data table notebook</a>'\n",
              "            + ' to learn more about interactive tables.';\n",
              "          element.innerHTML = '';\n",
              "          dataTable['output_type'] = 'display_data';\n",
              "          await google.colab.output.renderOutput(dataTable, element);\n",
              "          const docLink = document.createElement('div');\n",
              "          docLink.innerHTML = docLinkHtml;\n",
              "          element.appendChild(docLink);\n",
              "        }\n",
              "      </script>\n",
              "    </div>\n",
              "  </div>\n",
              "  "
            ]
          },
          "metadata": {},
          "execution_count": 103
        }
      ],
      "source": [
        "theDataset = 'https://archive.ics.uci.edu/ml/machine-learning-databases/00267/data_banknote_authentication.txt'\n",
        "\n",
        "df = pd.read_csv(theDataset,header=None)\n",
        "\n",
        "df.tail()"
      ]
    },
    {
      "cell_type": "code",
      "source": [
        "#Independent variable -> X \n",
        "X = df.drop(columns=3)\n",
        "\n",
        "#Dependent variable -> y\n",
        "y = df.iloc[:, 4]\n",
        "y"
      ],
      "metadata": {
        "colab": {
          "base_uri": "https://localhost:8080/"
        },
        "id": "602MZ9YuG8rM",
        "outputId": "91864494-6e6a-488f-98f9-e09324a91a3e"
      },
      "execution_count": 114,
      "outputs": [
        {
          "output_type": "execute_result",
          "data": {
            "text/plain": [
              "0       0\n",
              "1       0\n",
              "2       0\n",
              "3       0\n",
              "4       0\n",
              "       ..\n",
              "1367    1\n",
              "1368    1\n",
              "1369    1\n",
              "1370    1\n",
              "1371    1\n",
              "Name: 4, Length: 1372, dtype: int64"
            ]
          },
          "metadata": {},
          "execution_count": 114
        }
      ]
    },
    {
      "cell_type": "markdown",
      "source": [
        "**Data Normalizing** \n",
        "\n",
        "Dataset has been normalised by dividing each value in a given column by the maximum value of that selected column."
      ],
      "metadata": {
        "id": "YNDvplYdHRdg"
      }
    },
    {
      "cell_type": "code",
      "source": [
        "#Normalizing of features\n",
        "for i in X.columns:\n",
        "  maxValue = max(X[i])\n",
        "  X[i] /= maxValue"
      ],
      "metadata": {
        "id": "ILoI5x6kHZld"
      },
      "execution_count": 115,
      "outputs": []
    },
    {
      "cell_type": "markdown",
      "metadata": {
        "id": "4nCcaY-Cmth8"
      },
      "source": [
        "**Model fitting**"
      ]
    },
    {
      "cell_type": "code",
      "source": [
        "from sklearn.linear_model import LogisticRegression\n",
        "from sklearn import metrics\n",
        "\n",
        "#40% of the whole dataset is taken as the test data and the other 60% as the train data randomly\n",
        "X_traindata, X_testdata, y_traindata, y_testdata = train_test_split(X, y, test_size=0.4, random_state=0)\n",
        "logreg = LogisticRegression()\n",
        "logreg.fit(X_traindata, y_traindata)"
      ],
      "metadata": {
        "colab": {
          "base_uri": "https://localhost:8080/"
        },
        "id": "pL-MxW9LGxUO",
        "outputId": "b391ab6f-ced2-4435-c439-c32c163402b3"
      },
      "execution_count": 116,
      "outputs": [
        {
          "output_type": "execute_result",
          "data": {
            "text/plain": [
              "LogisticRegression()"
            ]
          },
          "metadata": {},
          "execution_count": 116
        }
      ]
    },
    {
      "cell_type": "markdown",
      "metadata": {
        "id": "maHSxySXmwTM"
      },
      "source": [
        "**Evaluation**"
      ]
    },
    {
      "cell_type": "code",
      "source": [
        "y_prediction = logreg.predict(X_testdata)\n",
        "\n",
        "print('Accuracy of logistic regression classifier on test set: {:.2f}'.format(logreg.score(X_testdata, y_testdata)))"
      ],
      "metadata": {
        "colab": {
          "base_uri": "https://localhost:8080/"
        },
        "id": "xEZnBFSwLSFl",
        "outputId": "da32a7a6-8931-4f6e-a080-cbddc7c11b73"
      },
      "execution_count": 118,
      "outputs": [
        {
          "output_type": "stream",
          "name": "stdout",
          "text": [
            "Accuracy of logistic regression classifier on test set: 1.00\n"
          ]
        }
      ]
    },
    {
      "cell_type": "code",
      "source": [
        ""
      ],
      "metadata": {
        "id": "HdplNOzULRAy"
      },
      "execution_count": null,
      "outputs": []
    }
  ],
  "metadata": {
    "colab": {
      "name": "Assignment1.ipynb",
      "provenance": [],
      "authorship_tag": "ABX9TyPfSivLu6jV8k99hR5FOWuQ",
      "include_colab_link": true
    },
    "kernelspec": {
      "display_name": "Python 3",
      "name": "python3"
    },
    "language_info": {
      "name": "python"
    }
  },
  "nbformat": 4,
  "nbformat_minor": 0
}